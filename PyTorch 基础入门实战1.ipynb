{
 "cells": [
  {
   "cell_type": "code",
   "execution_count": 36,
   "id": "colored-monster",
   "metadata": {},
   "outputs": [
    {
     "name": "stdout",
     "output_type": "stream",
     "text": [
      "此时，loss 关于 w 的偏导为: tensor(-2.)\n",
      "此时，loss 关于x的偏导为： tensor(-2.)\n",
      "此时，loss 关于y的偏导为： tensor(2.)\n"
     ]
    },
    {
     "data": {
      "text/plain": [
       "tensor(0.)"
      ]
     },
     "execution_count": 36,
     "metadata": {},
     "output_type": "execute_result"
    }
   ],
   "source": [
    "import torch\n",
    "\n",
    "#forward ; loss = (w*x-y)^2\n",
    "def forward(x, y, w):\n",
    "    # 其中 x,y 为输入数据，w为该函数所需要的参数\n",
    "    y_predicted = w * x\n",
    "    loss = (y_predicted - y)**2\n",
    "    return loss\n",
    "\n",
    "\n",
    "# 测试代码\n",
    "x = torch.tensor(1.0)\n",
    "y = torch.tensor(2.0)\n",
    "w = torch.tensor(1.0, requires_grad=True)\n",
    "forward(x, y, w)  # (2-1)²=1\n",
    "x = torch.tensor(1.0,requires_grad=True)\n",
    "y = torch.tensor(2.0,requires_grad=True)\n",
    "# 将需要求取的 w 设置为可偏导\n",
    "w = torch.tensor(1.0, requires_grad=True)\n",
    "loss = forward(x, y, w)  # 计算损失\n",
    "loss.backward()  # 反向传播，计算梯度\n",
    "print(\"此时，loss 关于 w 的偏导为:\", w.grad)\n",
    "print(\"此时，loss 关于x的偏导为：\",x.grad)\n",
    "print(\"此时，loss 关于y的偏导为：\",y.grad)\n",
    "w.grad.zero_()  # 得到偏导后，清空梯度\n",
    "x.grad.zero_()\n",
    "y.grad.zero_()"
   ]
  },
  {
   "cell_type": "code",
   "execution_count": 112,
   "id": "spatial-accuracy",
   "metadata": {},
   "outputs": [
    {
     "name": "stdout",
     "output_type": "stream",
     "text": [
      "loss(y, y_pred)= 0.5\n",
      "gradient(x, y, 2)= 7.0\n",
      "epoch 1: w = 0.300, loss = 30.00000000\n",
      "epoch 3: w = 0.772, loss = 15.66018677\n",
      "epoch 5: w = 1.113, loss = 8.17471600\n",
      "epoch 7: w = 1.359, loss = 4.26725292\n",
      "epoch 9: w = 1.537, loss = 2.22753215\n",
      "epoch 11: w = 1.665, loss = 1.16278565\n",
      "epoch 13: w = 1.758, loss = 0.60698175\n",
      "epoch 15: w = 1.825, loss = 0.31684822\n",
      "epoch 17: w = 1.874, loss = 0.16539653\n",
      "epoch 19: w = 1.909, loss = 0.08633806\n",
      "epoch 21: w = 1.934, loss = 0.04506905\n",
      "epoch 23: w = 1.952, loss = 0.02352631\n",
      "epoch 25: w = 1.966, loss = 0.01228092\n",
      "epoch 27: w = 1.975, loss = 0.00641072\n",
      "epoch 29: w = 1.982, loss = 0.00334642\n",
      "根据训练模型预测，当 x =5 时，y 的值为： 9.924\n"
     ]
    }
   ],
   "source": [
    "import numpy as np\n",
    "\n",
    "# 所有点的预测值和实际值的距离的平方和，再取平均值（这种距离叫做欧氏距离）。\n",
    "def loss(y, y_pred):\n",
    "    return ((y_pred - y)**2).mean()\n",
    "#测试代码\n",
    "y_pred = np.array([1,2])\n",
    "y = np.array([1,1])\n",
    "print('loss(y, y_pred)=',loss(y, y_pred))\n",
    "\n",
    "#手动计算梯度\n",
    "#返回dJ/dw\n",
    "def gradient(x, y, w):\n",
    "    return np.mean(2*w*x*x-2*x*y)\n",
    "## 测试代码\n",
    "x = np.array([1,2])\n",
    "y = np.array([1,1])\n",
    "print('gradient(x, y, 2)=',gradient(x, y, 2))\n",
    "\n",
    "# 正向传播，计算预测值\n",
    "def forward(x):\n",
    "    return w * x\n",
    "# 定义数据集合和 w 的初始化\n",
    "X = np.array([1, 2, 3, 4], dtype=np.float32)\n",
    "Y = np.array([2, 4, 6, 8], dtype=np.float32)\n",
    "w = 0.0\n",
    "# 定义步长和迭代次数\n",
    "learning_rate = 0.01\n",
    "n_iters = 30\n",
    "\n",
    "for epoch in range(n_iters):\n",
    "    y_pred = forward(X)\n",
    "    #计算损失\n",
    "    l = loss(Y, y_pred)\n",
    "    #计算梯度\n",
    "    dw = gradient(X, Y, w)\n",
    "    #更新权重 w\n",
    "    w -= learning_rate * dw\n",
    "\n",
    "    if epoch % 2 == 0:\n",
    "        print(f'epoch {epoch+1}: w = {w:.3f}, loss = {l:.8f}')\n",
    "     \n",
    "print(f'根据训练模型预测，当 x =5 时，y 的值为： {forward(5):.3f}')"
   ]
  },
  {
   "cell_type": "code",
   "execution_count": 113,
   "id": "skilled-pottery",
   "metadata": {},
   "outputs": [
    {
     "name": "stdout",
     "output_type": "stream",
     "text": [
      "epoch 1: w = 0.300, loss = 30.00000000\n",
      "epoch 3: w = 0.772, loss = 15.66018772\n",
      "epoch 5: w = 1.113, loss = 8.17471695\n",
      "epoch 7: w = 1.359, loss = 4.26725292\n",
      "epoch 9: w = 1.537, loss = 2.22753215\n",
      "epoch 11: w = 1.665, loss = 1.16278565\n",
      "epoch 13: w = 1.758, loss = 0.60698116\n",
      "epoch 15: w = 1.825, loss = 0.31684780\n",
      "epoch 17: w = 1.874, loss = 0.16539653\n",
      "epoch 19: w = 1.909, loss = 0.08633806\n",
      "epoch 21: w = 1.934, loss = 0.04506890\n",
      "epoch 23: w = 1.952, loss = 0.02352631\n",
      "epoch 25: w = 1.966, loss = 0.01228084\n",
      "epoch 27: w = 1.975, loss = 0.00641066\n",
      "epoch 29: w = 1.982, loss = 0.00334642\n",
      "根据训练模型预测，当 x =5 时，y 的值为： 9.924\n"
     ]
    }
   ],
   "source": [
    "#Torch计算梯度\n",
    "import torch\n",
    "X = torch.tensor([1, 2, 3, 4], dtype=torch.float32)\n",
    "Y = torch.tensor([2, 4, 6, 8], dtype=torch.float32)\n",
    "#初始化张量 w\n",
    "w = torch.tensor(0.0, dtype=torch.float32, requires_grad=True)\n",
    "# 定义步长和迭代次数\n",
    "learning_rate = 0.01\n",
    "n_iters = 30\n",
    "for epoch in range(n_iters):\n",
    "    y_pred = forward(X)\n",
    "    l = loss(Y, y_pred)\n",
    "    # 无需定义梯度求解的函数，直接求解梯度\n",
    "    l.backward()\n",
    "    # 利用梯度下降更新参数\n",
    "    with torch.no_grad():\n",
    "        # w.grad :返回 w 的梯度\n",
    "        w.data -= learning_rate * w.grad\n",
    "    \n",
    "    # 清空梯度\n",
    "    w.grad.zero_()\n",
    "\n",
    "    if epoch % 2 == 0:\n",
    "        print(f'epoch {epoch+1}: w = {w.item():.3f}, loss = {l.item():.8f}')\n",
    "print(f'根据训练模型预测，当 x =5 时，y 的值为： {forward(5):.3f}')"
   ]
  },
  {
   "cell_type": "code",
   "execution_count": 114,
   "id": "technological-headset",
   "metadata": {},
   "outputs": [
    {
     "name": "stdout",
     "output_type": "stream",
     "text": [
      "pre= tensor([0., 0., 0., 0.], grad_fn=<MulBackward0>)\n",
      "epoch 1: w = 0.300, loss = 30.00000000\n",
      "epoch 3: w = 0.772, loss = 15.66018772\n",
      "epoch 5: w = 1.113, loss = 8.17471695\n",
      "epoch 7: w = 1.359, loss = 4.26725292\n",
      "epoch 9: w = 1.537, loss = 2.22753215\n",
      "epoch 11: w = 1.665, loss = 1.16278565\n",
      "epoch 13: w = 1.758, loss = 0.60698116\n",
      "epoch 15: w = 1.825, loss = 0.31684780\n",
      "epoch 17: w = 1.874, loss = 0.16539653\n",
      "epoch 19: w = 1.909, loss = 0.08633806\n",
      "epoch 21: w = 1.934, loss = 0.04506890\n",
      "epoch 23: w = 1.952, loss = 0.02352631\n",
      "epoch 25: w = 1.966, loss = 0.01228084\n",
      "epoch 27: w = 1.975, loss = 0.00641066\n",
      "epoch 29: w = 1.982, loss = 0.00334642\n",
      "根据训练模型预测，当 x =5 时，y 的值为： 9.924\n"
     ]
    }
   ],
   "source": [
    "#Torch 定义的损失函数\n",
    "import torch\n",
    "import torch.nn as nn\n",
    "\n",
    "# 初始化数据集\n",
    "X = torch.tensor([1, 2, 3, 4], dtype=torch.float32)\n",
    "Y = torch.tensor([2, 4, 6, 8], dtype=torch.float32)\n",
    "w = torch.tensor(0.0, dtype=torch.float32, requires_grad=True)\n",
    "\n",
    "\n",
    "def forward(x):\n",
    "    # 正向传播函数\n",
    "    return w * x\n",
    "\n",
    "learning_rate = 0.01\n",
    "n_iters = 30\n",
    "# 测试代码\n",
    "pre = forward(X)\n",
    "print('pre=',pre)\n",
    "for epoch in range(n_iters):\n",
    "    loss = nn.MSELoss()\n",
    "    l = loss(forward(X), Y)\n",
    "    l.backward()\n",
    "    # 利用梯度下降更新参数\n",
    "    with torch.no_grad():\n",
    "        # w.grad :返回 w 的梯度\n",
    "        w.data -= learning_rate * w.grad\n",
    "    \n",
    "    # 清空梯度\n",
    "    w.grad.zero_()\n",
    "\n",
    "    if epoch % 2 == 0:\n",
    "        print(f'epoch {epoch+1}: w = {w.item():.3f}, loss = {l.item():.8f}')\n",
    "print(f'根据训练模型预测，当 x =5 时，y 的值为： {forward(5):.3f}')\n",
    "# 这里使用均方差损失计算预测值和真实值之间的距离\n",
    "#loss = nn.MSELoss()\n",
    "# 测试此时的损失\n",
    "#loss(forward(X), Y)"
   ]
  },
  {
   "cell_type": "code",
   "execution_count": 115,
   "id": "artificial-original",
   "metadata": {},
   "outputs": [
    {
     "name": "stdout",
     "output_type": "stream",
     "text": [
      "epoch  1 : w =  tensor(0.3000, requires_grad=True)  loss =  tensor(30., grad_fn=<MseLossBackward>)\n",
      "epoch  11 : w =  tensor(1.6653, requires_grad=True)  loss =  tensor(1.1628, grad_fn=<MseLossBackward>)\n",
      "epoch  21 : w =  tensor(1.9341, requires_grad=True)  loss =  tensor(0.0451, grad_fn=<MseLossBackward>)\n",
      "epoch  31 : w =  tensor(1.9870, requires_grad=True)  loss =  tensor(0.0017, grad_fn=<MseLossBackward>)\n",
      "epoch  41 : w =  tensor(1.9974, requires_grad=True)  loss =  tensor(6.7705e-05, grad_fn=<MseLossBackward>)\n",
      "epoch  51 : w =  tensor(1.9995, requires_grad=True)  loss =  tensor(2.6244e-06, grad_fn=<MseLossBackward>)\n",
      "epoch  61 : w =  tensor(1.9999, requires_grad=True)  loss =  tensor(1.0176e-07, grad_fn=<MseLossBackward>)\n",
      "epoch  71 : w =  tensor(2.0000, requires_grad=True)  loss =  tensor(3.9742e-09, grad_fn=<MseLossBackward>)\n",
      "epoch  81 : w =  tensor(2.0000, requires_grad=True)  loss =  tensor(1.4670e-10, grad_fn=<MseLossBackward>)\n",
      "epoch  91 : w =  tensor(2.0000, requires_grad=True)  loss =  tensor(5.0768e-12, grad_fn=<MseLossBackward>)\n",
      "根据训练模型预测，当 x =5 时，y 的值为： 10.000\n"
     ]
    }
   ],
   "source": [
    "#Torch 定义损失和优化器\n",
    "# 初始化数据集\n",
    "X = torch.tensor([1, 2, 3, 4], dtype=torch.float32)\n",
    "Y = torch.tensor([2, 4, 6, 8], dtype=torch.float32)\n",
    "w = torch.tensor(0.0, dtype=torch.float32, requires_grad=True)\n",
    "learning_rate = 0.01\n",
    "n_iters = 100\n",
    "loss = nn.MSELoss()\n",
    "optimizer = torch.optim.SGD([w], lr=learning_rate)\n",
    "# 模型的训练过程\n",
    "for epoch in range(n_iters):\n",
    "    y_predicted = forward(X)\n",
    "    # 计算损失\n",
    "    l = loss(Y, y_predicted)\n",
    "    # 计算梯度\n",
    "    l.backward()\n",
    "    # 更新权重，即向梯度方向走一步，类似于w.data -= learning_rate * w.grad\n",
    "    optimizer.step()\n",
    "    # 清空梯度\n",
    "    optimizer.zero_grad()\n",
    "\n",
    "    if epoch % 10 == 0:\n",
    "        print('epoch ', epoch+1, ': w = ', w, ' loss = ', l)\n",
    "\n",
    "\n",
    "print(f'根据训练模型预测，当 x =5 时，y 的值为： {forward(5):.3f}')\n",
    "del optimizer"
   ]
  },
  {
   "cell_type": "code",
   "execution_count": null,
   "id": "daily-reproduction",
   "metadata": {},
   "outputs": [],
   "source": [
    "'''\n",
    "总结一下，我们可以将一个线性问题的求解分为下面三个步骤：\n",
    "\n",
    "1. 定义模型（即正向传播函数）。\n",
    "2. 定义损失和优化器。\n",
    "3. 模型的训练（正向传播、反向传播、更新梯度、梯度下降、循环）。\n",
    "\n",
    "可以看到其实模型训练的步骤是固定的:\n",
    "1. 利用 nn.Linear 定义模型。\n",
    "2. 利用 nn.MSELoss 定义损失。\n",
    "3. 利用 torch.optim 定义优化器。\n",
    "4. 利用梯度下降算法进行模型的训练。\n",
    "\n",
    "并且模型的训练步骤也是固定的：\n",
    "1. 利用 model(X) 进行正向传播。\n",
    "2. 利用 loss(Y, y_predicted) 计算模型损失。\n",
    "3. 利用 loss.backward() 计算模型梯度。\n",
    "4. 利用 optimizer.step() 更新权重。\n",
    "5. 利用 optimizer.zero_grad() 清空梯度。\n",
    "6. 重复 1-5 的操作。\n",
    "因此，使用 PyTorch 可以大大的简化我们的编程难度。我们只需要改变模型的形式、损失函数的形式、优化器的形式以及各个参数的值，\n",
    "就能够训练出不同的模型，进而解决不同的深度学习问题了。\n",
    "'''"
   ]
  },
  {
   "cell_type": "code",
   "execution_count": 116,
   "id": "amber-notion",
   "metadata": {},
   "outputs": [
    {
     "name": "stdout",
     "output_type": "stream",
     "text": [
      "torch.Size([4, 1]) torch.Size([4, 1])\n",
      "model =  Linear(in_features=1, out_features=1, bias=True)\n",
      "optimizer =  SGD (\n",
      "Parameter Group 0\n",
      "    dampening: 0\n",
      "    lr: 0.1\n",
      "    momentum: 0\n",
      "    nesterov: False\n",
      "    weight_decay: 0\n",
      ")\n",
      "epoch  1 : w =  3.2500979900360107  loss =  tensor(25.8055, grad_fn=<MseLossBackward>)\n",
      "epoch  11 : w =  2.1203315258026123  loss =  tensor(0.0239, grad_fn=<MseLossBackward>)\n",
      "epoch  21 : w =  2.0741567611694336  loss =  tensor(0.0084, grad_fn=<MseLossBackward>)\n",
      "epoch  31 : w =  2.054452657699585  loss =  tensor(0.0045, grad_fn=<MseLossBackward>)\n",
      "epoch  41 : w =  2.040174722671509  loss =  tensor(0.0025, grad_fn=<MseLossBackward>)\n",
      "epoch  51 : w =  2.02964448928833  loss =  tensor(0.0013, grad_fn=<MseLossBackward>)\n",
      "epoch  61 : w =  2.02187442779541  loss =  tensor(0.0007, grad_fn=<MseLossBackward>)\n",
      "epoch  71 : w =  2.0161406993865967  loss =  tensor(0.0004, grad_fn=<MseLossBackward>)\n",
      "epoch  81 : w =  2.0119102001190186  loss =  tensor(0.0002, grad_fn=<MseLossBackward>)\n",
      "epoch  91 : w =  2.0087883472442627  loss =  tensor(0.0001, grad_fn=<MseLossBackward>)\n",
      "根据训练模型预测，当 x =5 时，y 的值为： tensor([[10.0334]], grad_fn=<MulBackward0>)\n"
     ]
    }
   ],
   "source": [
    "# Torch一个完整的例子\n",
    "#正向传播，计算预测值\n",
    "def forward(x):\n",
    "    return w * x\n",
    "\n",
    "# 由于使用 PyTorch ，因此所有的变量都为张量\n",
    "X = torch.tensor([[1], [2], [3], [4]], dtype=torch.float32)\n",
    "Y = torch.tensor([[2], [4], [6], [8]], dtype=torch.float32)\n",
    "X_test = torch.tensor([5], dtype=torch.float32)\n",
    "print(X.shape, Y.shape)\n",
    "\n",
    "# 1. 定义模型\n",
    "n_samples, n_features = X.shape\n",
    "# 这里输入和输出的维度相同\n",
    "model = nn.Linear(n_features, n_features)\n",
    "print('model = ', model)\n",
    "\n",
    "# 2. 定义优化器和损失函数\n",
    "learning_rate = 0.1\n",
    "n_iters = 100\n",
    "\n",
    "loss = nn.MSELoss()\n",
    "# 在定义优化器时，直接利用 model.parameters() 表示模型中所有需要求的权重\n",
    "optimizer = torch.optim.SGD(model.parameters(), lr=learning_rate)\n",
    "print('optimizer = ', optimizer)\n",
    "\n",
    "# 3. 模型的训练，固定的步骤：正向传播、计算损失、反向传播、更新权重、梯度清空\n",
    "for epoch in range(n_iters):\n",
    "    # 正向传播\n",
    "    y_predicted = model(X)\n",
    "    # 损失\n",
    "    l = loss(Y, y_predicted)\n",
    "    # 反向传播\n",
    "    l.backward()\n",
    "    # 更新权重\n",
    "    optimizer.step()\n",
    "    # 清空梯度\n",
    "    optimizer.zero_grad()\n",
    "\n",
    "    if epoch % 10 == 0:\n",
    "        [w, b] = model.parameters()  # unpack parameters\n",
    "        print('epoch ', epoch+1, ': w = ', w[0][0].item(), ' loss = ', l)\n",
    "\n",
    "print(f'根据训练模型预测，当 x =5 时，y 的值为：', forward(X_test))"
   ]
  },
  {
   "cell_type": "code",
   "execution_count": 119,
   "id": "metropolitan-export",
   "metadata": {},
   "outputs": [
    {
     "name": "stdout",
     "output_type": "stream",
     "text": [
      "(100, 1) (100,)\n",
      "100 1 1\n",
      "model= Linear(in_features=1, out_features=1, bias=True)\n",
      "optimizer =  SGD (\n",
      "Parameter Group 0\n",
      "    dampening: 0\n",
      "    lr: 0.01\n",
      "    momentum: 0\n",
      "    nesterov: False\n",
      "    weight_decay: 0\n",
      ")\n"
     ]
    },
    {
     "data": {
      "image/png": "[encoded data removed]",
      "text/plain": [
       "<Figure size 432x288 with 1 Axes>"
      ]
     },
     "metadata": {
      "needs_background": "light"
     },
     "output_type": "display_data"
    }
   ],
   "source": [
    "#实战 线性回归\n",
    "import torch\n",
    "import torch.nn as nn\n",
    "#挑战\n",
    "import numpy as np\n",
    "from sklearn import datasets\n",
    "import matplotlib.pyplot as plt\n",
    "%matplotlib inline\n",
    "\n",
    "X_numpy, y_numpy = datasets.make_regression(\n",
    "    n_samples=100, n_features=1, noise=20, random_state=4)\n",
    "print(X_numpy.shape,y_numpy.shape)\n",
    "plt.plot(X_numpy, y_numpy, 'ro')\n",
    "\n",
    "# 编写代码处\n",
    "X=torch.from_numpy(X_numpy.astype(np.float32))\n",
    "y=torch.from_numpy(y_numpy.astype(np.float32))\n",
    "y=y.view(y.shape[0],1)\n",
    "\n",
    "# 测试代码\n",
    "X.size(), y.size()\n",
    "### 补充代码 ###\n",
    "n_samples, n_features = X.shape\n",
    "input_size = n_features\n",
    "output_size = 1\n",
    "model = nn.Linear(input_size, output_size)\n",
    "\n",
    "# 测试代码\n",
    "print(n_samples,input_size,output_size)\n",
    "print('model=',model)\n",
    "\n",
    "loss = nn.MSELoss()\n",
    "# 在定义优化器时，直接利用 model.parameters() 表示模型中所有需要求的权重\n",
    "optimizer = torch.optim.SGD(model.parameters(), lr=learning_rate)\n",
    "print('optimizer = ', optimizer)"
   ]
  },
  {
   "cell_type": "code",
   "execution_count": 118,
   "id": "essential-energy",
   "metadata": {},
   "outputs": [
    {
     "name": "stdout",
     "output_type": "stream",
     "text": [
      "epoch: 10, loss = 409.0306\n",
      "epoch: 20, loss = 291.9953\n",
      "epoch: 30, loss = 290.1886\n",
      "epoch: 40, loss = 290.1602\n",
      "epoch: 50, loss = 290.1597\n",
      "epoch: 60, loss = 290.1598\n",
      "epoch: 70, loss = 290.1597\n",
      "epoch: 80, loss = 290.1597\n",
      "epoch: 90, loss = 290.1598\n",
      "epoch: 100, loss = 290.1597\n"
     ]
    },
    {
     "data": {
      "image/png": "[encoded data removed]",
      "text/plain": [
       "<Figure size 432x288 with 1 Axes>"
      ]
     },
     "metadata": {
      "needs_background": "light"
     },
     "output_type": "display_data"
    }
   ],
   "source": [
    "learning_rate = 0.01\n",
    "n_iters = 100\n",
    "for epoch in range(n_iters):\n",
    "    # Forward pass and loss\n",
    "    y_predicted = model(X)\n",
    "    l = loss(y_predicted, y) \n",
    "    # Backward pass and update\n",
    "    l.backward()\n",
    "    optimizer.step()\n",
    "    # zero grad before new step\n",
    "    optimizer.zero_grad()\n",
    "\n",
    "    if (epoch+1) % 10 == 0:\n",
    "        print(f'epoch: {epoch+1}, loss = {l.item():.4f}')\n",
    "\n",
    "\n",
    "\n",
    "predicted = model(X).detach().numpy()\n",
    "\n",
    "plt.plot(X_numpy, y_numpy, 'ro')\n",
    "plt.plot(X_numpy, predicted, 'b')\n",
    "plt.show()"
   ]
  }
 ],
 "metadata": {
  "kernelspec": {
   "display_name": "Python [conda env:root]",
   "language": "python",
   "name": "conda-root-py"
  },
  "language_info": {
   "codemirror_mode": {
    "name": "ipython",
    "version": 3
   },
   "file_extension": ".py",
   "mimetype": "text/x-python",
   "name": "python",
   "nbconvert_exporter": "python",
   "pygments_lexer": "ipython3",
   "version": "3.7.3"
  }
 },
 "nbformat": 4,
 "nbformat_minor": 5
}
