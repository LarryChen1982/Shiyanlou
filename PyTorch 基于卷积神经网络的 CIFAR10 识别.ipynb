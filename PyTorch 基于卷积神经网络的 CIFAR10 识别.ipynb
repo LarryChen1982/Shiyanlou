{
 "cells": [
  {
   "cell_type": "code",
   "execution_count": 1,
   "id": "fantastic-caribbean",
   "metadata": {},
   "outputs": [
    {
     "name": "stdout",
     "output_type": "stream",
     "text": [
      "训练集的图像数量为： 50000\n",
      "测试集的图像数量为 10000\n"
     ]
    }
   ],
   "source": [
    "import torch\n",
    "import torchvision\n",
    "import torchvision.transforms as transforms\n",
    "import numpy as np\n",
    "# 定义预处理列表\n",
    "transform = transforms.Compose(\n",
    "    [transforms.ToTensor(),\n",
    "     transforms.Normalize((0.5, 0.5, 0.5), (0.5, 0.5, 0.5))])\n",
    "\n",
    "# CIFAR10: 60000 张 32x32 大小的彩色图片，这些图片共分 10 类,每类有 6000 张图像\n",
    "# root:指定数据集所在位置\n",
    "# train=True：表示若本地已经存在，无需下载。若不存在，则下载\n",
    "# transform：预处理列表，这样就可以返回预处理后的数据集合\n",
    "train_dataset = torchvision.datasets.CIFAR10(root='./data', train=True,\n",
    "                                             download=False, transform=transform)\n",
    "\n",
    "test_dataset = torchvision.datasets.CIFAR10(root='./data', train=False,\n",
    "                                            download=False, transform=transform)\n",
    "print(\"训练集的图像数量为：\", len(train_dataset))\n",
    "print(\"测试集的图像数量为\", len(test_dataset))"
   ]
  },
  {
   "cell_type": "code",
   "execution_count": 2,
   "id": "compressed-velvet",
   "metadata": {},
   "outputs": [
    {
     "data": {
      "text/plain": [
       "(<torch.utils.data.dataloader.DataLoader at 0x1b9bd9b3da0>,\n",
       " <torch.utils.data.dataloader.DataLoader at 0x1b9bd9b3da0>)"
      ]
     },
     "execution_count": 2,
     "metadata": {},
     "output_type": "execute_result"
    }
   ],
   "source": [
    "batch_size = 4  # 设置批次个数\n",
    "# shuffle=True:表示加载数据前，会先打乱数据，提高模型的稳健性\n",
    "train_loader = torch.utils.data.DataLoader(train_dataset, batch_size=batch_size,\n",
    "                                           shuffle=True)\n",
    "\n",
    "test_loader = torch.utils.data.DataLoader(test_dataset, batch_size=batch_size,\n",
    "                                          shuffle=False)\n",
    "test_loader, test_loader"
   ]
  },
  {
   "cell_type": "code",
   "execution_count": 3,
   "id": "vocational-thriller",
   "metadata": {},
   "outputs": [
    {
     "data": {
      "image/png": "[encoded data removed]",
      "text/plain": [
       "<Figure size 432x288 with 1 Axes>"
      ]
     },
     "metadata": {
      "needs_background": "light"
     },
     "output_type": "display_data"
    }
   ],
   "source": [
    "import matplotlib.pyplot as plt\n",
    "%matplotlib inline\n",
    "\n",
    "\n",
    "def imshow(img):\n",
    "    # 由于加载器产生的图片是归一化后的图片，因此这里需要将图片反归一化\n",
    "    # 变成归一化前的图像\n",
    "    img = img / 2 + 0.5\n",
    "    # 将图像从 Tensor 转为 NumPy\n",
    "    npimg = img.numpy()\n",
    "    # 产生的数据为 C×W×H 而 plt 展示的图像一般都是 W×H×C\n",
    "    # 因此，这里会有一个维度的变换\n",
    "    plt.imshow(np.transpose(npimg, (1, 2, 0)))\n",
    "    plt.show()\n",
    "\n",
    "\n",
    "# 随机获得一些训练图像\n",
    "dataiter = iter(train_loader)\n",
    "images, labels = dataiter.next()\n",
    "\n",
    "# 将这些图像进行展示\n",
    "imshow(torchvision.utils.make_grid(images))"
   ]
  },
  {
   "cell_type": "code",
   "execution_count": 4,
   "id": "wrapped-smooth",
   "metadata": {},
   "outputs": [
    {
     "data": {
      "text/plain": [
       "ConvNet(\n",
       "  (conv1): Conv2d(3, 6, kernel_size=(5, 5), stride=(1, 1))\n",
       "  (pool): MaxPool2d(kernel_size=2, stride=2, padding=0, dilation=1, ceil_mode=False)\n",
       "  (conv2): Conv2d(6, 16, kernel_size=(5, 5), stride=(1, 1))\n",
       "  (fc1): Linear(in_features=400, out_features=120, bias=True)\n",
       "  (fc2): Linear(in_features=120, out_features=84, bias=True)\n",
       "  (fc3): Linear(in_features=84, out_features=10, bias=True)\n",
       ")"
      ]
     },
     "execution_count": 4,
     "metadata": {},
     "output_type": "execute_result"
    }
   ],
   "source": [
    "import torch.nn.functional as F\n",
    "import torch.nn as nn\n",
    "\n",
    "# 网络模型的建立\n",
    "class ConvNet(nn.Module):\n",
    "    def __init__(self):\n",
    "        super(ConvNet, self).__init__()\n",
    "        # 神经网络的输入为 三个通道\n",
    "        self.conv1 = nn.Conv2d(3, 6, 5)\n",
    "        self.pool = nn.MaxPool2d(2, 2)\n",
    "        self.conv2 = nn.Conv2d(6, 16, 5)\n",
    "        self.fc1 = nn.Linear(16 * 5 * 5, 120)\n",
    "        self.fc2 = nn.Linear(120, 84)\n",
    "        # 由于一共有 10 个类，因此模型的输出节点数量为 10\n",
    "        self.fc3 = nn.Linear(84, 10)\n",
    "\n",
    "    def forward(self, x):\n",
    "        # -> n, 3, 32, 32\n",
    "        # 传入数据，且为输出数据添加激活函数\n",
    "        x = self.pool(F.relu(self.conv1(x)))  # -> n, 6, 14, 14\n",
    "        x = self.pool(F.relu(self.conv2(x)))  # -> n, 16, 5, 5\n",
    "        x = x.view(-1, 16 * 5 * 5)            # -> n, 400\n",
    "        x = F.relu(self.fc1(x))               # -> n, 120\n",
    "        x = F.relu(self.fc2(x))               # -> n, 84\n",
    "        x = self.fc3(x)                       # -> n, 10\n",
    "        return x\n",
    "\n",
    "\n",
    "# 定义当前设备是否支持 GPU\n",
    "device = torch.device('cuda' if torch.cuda.is_available() else 'cpu')\n",
    "model = ConvNet().to(device)\n",
    "model"
   ]
  },
  {
   "cell_type": "code",
   "execution_count": 5,
   "id": "understanding-focus",
   "metadata": {},
   "outputs": [
    {
     "data": {
      "text/plain": [
       "(CrossEntropyLoss(), SGD (\n",
       " Parameter Group 0\n",
       "     dampening: 0\n",
       "     lr: 0.001\n",
       "     momentum: 0\n",
       "     nesterov: False\n",
       "     weight_decay: 0\n",
       " ))"
      ]
     },
     "execution_count": 5,
     "metadata": {},
     "output_type": "execute_result"
    }
   ],
   "source": [
    "learning_rate = 0.001\n",
    "criterion = nn.CrossEntropyLoss()\n",
    "optimizer = torch.optim.SGD(model.parameters(), lr=learning_rate)\n",
    "criterion, optimizer"
   ]
  },
  {
   "cell_type": "code",
   "execution_count": 41,
   "id": "national-editor",
   "metadata": {},
   "outputs": [
    {
     "name": "stdout",
     "output_type": "stream",
     "text": [
      "Start training....\n",
      "Epoch [1/5], Step [2000/12500], Loss: 2.2954\n",
      "Epoch [1/5], Step [4000/12500], Loss: 2.3251\n",
      "Epoch [1/5], Step [6000/12500], Loss: 2.2049\n",
      "Epoch [1/5], Step [8000/12500], Loss: 2.2976\n",
      "Epoch [1/5], Step [10000/12500], Loss: 2.2676\n",
      "Epoch [1/5], Step [12000/12500], Loss: 2.1372\n",
      "Epoch [2/5], Step [2000/12500], Loss: 2.0968\n",
      "Epoch [2/5], Step [4000/12500], Loss: 2.0630\n",
      "Epoch [2/5], Step [6000/12500], Loss: 1.2842\n",
      "Epoch [2/5], Step [8000/12500], Loss: 2.2140\n",
      "Epoch [2/5], Step [10000/12500], Loss: 2.2579\n",
      "Epoch [2/5], Step [12000/12500], Loss: 2.3161\n",
      "Epoch [3/5], Step [2000/12500], Loss: 1.6195\n",
      "Epoch [3/5], Step [4000/12500], Loss: 1.2474\n",
      "Epoch [3/5], Step [6000/12500], Loss: 1.7732\n",
      "Epoch [3/5], Step [8000/12500], Loss: 2.0407\n",
      "Epoch [3/5], Step [10000/12500], Loss: 1.2366\n",
      "Epoch [3/5], Step [12000/12500], Loss: 1.5702\n",
      "Epoch [4/5], Step [2000/12500], Loss: 1.2767\n",
      "Epoch [4/5], Step [4000/12500], Loss: 1.5922\n",
      "Epoch [4/5], Step [6000/12500], Loss: 1.5027\n",
      "Epoch [4/5], Step [8000/12500], Loss: 2.1307\n",
      "Epoch [4/5], Step [10000/12500], Loss: 2.3617\n",
      "Epoch [4/5], Step [12000/12500], Loss: 2.6690\n",
      "Epoch [5/5], Step [2000/12500], Loss: 1.3484\n",
      "Epoch [5/5], Step [4000/12500], Loss: 2.1053\n",
      "Epoch [5/5], Step [6000/12500], Loss: 1.8203\n",
      "Epoch [5/5], Step [8000/12500], Loss: 1.2472\n",
      "Epoch [5/5], Step [10000/12500], Loss: 1.1267\n",
      "Epoch [5/5], Step [12000/12500], Loss: 1.5390\n",
      "Finished Training\n"
     ]
    }
   ],
   "source": [
    "'''\n",
    "模型的训练\n",
    "模型训练的步骤是固定的，我们只需要在编写时，注意模型的输入即可。如果是全连接神经网络，我们需要将图片转为一个行向量，即每行代表一条数据。如果是卷积神经网络，我们就可以直接将图片作为输入。当然，在输入时，我们也需要注意模型的输入大小和图片的大小是否一致。\n",
    "\n",
    "模型训练的步骤和上一章节一致，如下：\n",
    "\n",
    "通过模型的正向传播，输出预测结果。\n",
    "通过预测结果和真实标签计算损失。\n",
    "通过后向传播，获得梯度。\n",
    "通过梯度更新模型的权重。\n",
    "进行梯度的清空。\n",
    "循环上面操作，直到损失较小为止。\n",
    "'''\n",
    "num_epochs = 5\n",
    "# 定义数据长度\n",
    "n_total_steps = len(train_loader)\n",
    "print(\"Start training....\")\n",
    "for epoch in range(num_epochs):\n",
    "    for i, (images, labels) in enumerate(train_loader):\n",
    "        # 原始数据集的大小，每个批次的大小为: [4, 3, 32, 32]\n",
    "        # 将数据转为模型支持的环境类型。\n",
    "        images = images.to(device)\n",
    "        labels = labels.to(device)\n",
    "\n",
    "        # 模型的正向传播，得到数据数据的预测值\n",
    "        outputs = model(images)\n",
    "        # 根据预测值计算损失\n",
    "        loss = criterion(outputs, labels)\n",
    "\n",
    "        # 固定步骤：梯度清空、反向传播、参数更新\n",
    "        optimizer.zero_grad()\n",
    "        loss.backward()\n",
    "        optimizer.step()\n",
    "\n",
    "        if (i+1) % 2000 == 0:\n",
    "            print(\n",
    "                f'Epoch [{epoch+1}/{num_epochs}], Step [{i+1}/{n_total_steps}], Loss: {loss.item():.4f}')\n",
    "\n",
    "\n",
    "print('Finished Training')"
   ]
  },
  {
   "cell_type": "code",
   "execution_count": 43,
   "id": "comic-framework",
   "metadata": {},
   "outputs": [
    {
     "name": "stdout",
     "output_type": "stream",
     "text": [
      "The model have been saved！\n"
     ]
    }
   ],
   "source": [
    "PATH = './model/cnn.pth'\n",
    "torch.save(model.state_dict(), PATH)\n",
    "print(\"The model have been saved！\")"
   ]
  },
  {
   "cell_type": "code",
   "execution_count": 7,
   "id": "removable-stake",
   "metadata": {},
   "outputs": [
    {
     "data": {
      "text/plain": [
       "10"
      ]
     },
     "execution_count": 7,
     "metadata": {},
     "output_type": "execute_result"
    }
   ],
   "source": [
    "#模型验证\n",
    "\n",
    "PATH = './model/cnn.pth'\n",
    "new_model = ConvNet()\n",
    "new_model.load_state_dict(torch.load(PATH))\n",
    "\n",
    "classes = ('plane', 'car', 'bird', 'cat',\n",
    "           'deer', 'dog', 'frog', 'horse', 'ship', 'truck')\n",
    "len(classes)\n",
    "\n"
   ]
  },
  {
   "cell_type": "code",
   "execution_count": 9,
   "id": "silent-anthony",
   "metadata": {},
   "outputs": [
    {
     "name": "stdout",
     "output_type": "stream",
     "text": [
      "Accuracy of the network: 50.19 %\n",
      "Accuracy of plane: 58.0 %\n",
      "Accuracy of car: 58.6 %\n",
      "Accuracy of bird: 33.0 %\n",
      "Accuracy of cat: 40.8 %\n",
      "Accuracy of deer: 31.6 %\n",
      "Accuracy of dog: 46.3 %\n",
      "Accuracy of frog: 50.7 %\n",
      "Accuracy of horse: 65.9 %\n",
      "Accuracy of ship: 56.5 %\n",
      "Accuracy of truck: 60.5 %\n"
     ]
    }
   ],
   "source": [
    "with torch.no_grad():\n",
    "    # 统计预测正确的图像数量和进行了预测的图像数量\n",
    "    n_correct = 0\n",
    "    n_samples = 0\n",
    "    # 统计每类图像中，预测正确的图像数量和该类图像的实际数量\n",
    "    n_class_correct = [0 for i in range(10)]\n",
    "    n_class_samples = [0 for i in range(10)]\n",
    "    for images, labels in test_loader:\n",
    "        images = images.to(device)\n",
    "        labels = labels.to(device)\n",
    "        outputs = new_model(images)\n",
    "        # 利用 max 函数返回 10 个类别中概率最大的下标，即预测的类别\n",
    "        _, predicted = torch.max(outputs, 1)\n",
    "        n_samples += labels.size(0)\n",
    "        # 通过判断预测值和真实标签是否相同，来统计预测正确的样本数\n",
    "        n_correct += (predicted == labels).sum().item()\n",
    "        # 计算每种种类的预测正确数\n",
    "        for i in range(batch_size):\n",
    "            label = labels[i]\n",
    "            pred = predicted[i]\n",
    "            if (label == pred):\n",
    "                n_class_correct[label] += 1\n",
    "            n_class_samples[label] += 1\n",
    "    # 输出总的模型准确率\n",
    "    acc = 100.0 * n_correct / n_samples\n",
    "    print(f'Accuracy of the network: {acc} %')\n",
    "\n",
    "    # 输出每个类别的模型准确率\n",
    "    for i in range(10):\n",
    "        acc = 100.0 * n_class_correct[i] / n_class_samples[i]\n",
    "        print(f'Accuracy of {classes[i]}: {acc} %')"
   ]
  },
  {
   "cell_type": "code",
   "execution_count": 46,
   "id": "biological-republican",
   "metadata": {},
   "outputs": [
    {
     "data": {
      "text/plain": [
       "VGG16(\n",
       "  (features): Sequential(\n",
       "    (0): Conv2d(3, 64, kernel_size=(3, 3), stride=(1, 1), padding=(1, 1))\n",
       "    (1): BatchNorm2d(64, eps=1e-05, momentum=0.1, affine=True, track_running_stats=True)\n",
       "    (2): ReLU(inplace=True)\n",
       "    (3): Conv2d(64, 64, kernel_size=(3, 3), stride=(1, 1), padding=(1, 1))\n",
       "    (4): BatchNorm2d(64, eps=1e-05, momentum=0.1, affine=True, track_running_stats=True)\n",
       "    (5): ReLU(inplace=True)\n",
       "    (6): MaxPool2d(kernel_size=2, stride=2, padding=0, dilation=1, ceil_mode=False)\n",
       "    (7): Conv2d(64, 128, kernel_size=(3, 3), stride=(1, 1), padding=(1, 1))\n",
       "    (8): BatchNorm2d(128, eps=1e-05, momentum=0.1, affine=True, track_running_stats=True)\n",
       "    (9): ReLU(inplace=True)\n",
       "    (10): Conv2d(128, 128, kernel_size=(3, 3), stride=(1, 1), padding=(1, 1))\n",
       "    (11): BatchNorm2d(128, eps=1e-05, momentum=0.1, affine=True, track_running_stats=True)\n",
       "    (12): ReLU(inplace=True)\n",
       "    (13): MaxPool2d(kernel_size=2, stride=2, padding=0, dilation=1, ceil_mode=False)\n",
       "    (14): Conv2d(128, 256, kernel_size=(3, 3), stride=(1, 1), padding=(1, 1))\n",
       "    (15): BatchNorm2d(256, eps=1e-05, momentum=0.1, affine=True, track_running_stats=True)\n",
       "    (16): ReLU(inplace=True)\n",
       "    (17): Conv2d(256, 256, kernel_size=(3, 3), stride=(1, 1), padding=(1, 1))\n",
       "    (18): BatchNorm2d(256, eps=1e-05, momentum=0.1, affine=True, track_running_stats=True)\n",
       "    (19): ReLU(inplace=True)\n",
       "    (20): Conv2d(256, 256, kernel_size=(3, 3), stride=(1, 1), padding=(1, 1))\n",
       "    (21): BatchNorm2d(256, eps=1e-05, momentum=0.1, affine=True, track_running_stats=True)\n",
       "    (22): ReLU(inplace=True)\n",
       "    (23): MaxPool2d(kernel_size=2, stride=2, padding=0, dilation=1, ceil_mode=False)\n",
       "    (24): Conv2d(256, 512, kernel_size=(3, 3), stride=(1, 1), padding=(1, 1))\n",
       "    (25): BatchNorm2d(512, eps=1e-05, momentum=0.1, affine=True, track_running_stats=True)\n",
       "    (26): ReLU(inplace=True)\n",
       "    (27): Conv2d(512, 512, kernel_size=(3, 3), stride=(1, 1), padding=(1, 1))\n",
       "    (28): BatchNorm2d(512, eps=1e-05, momentum=0.1, affine=True, track_running_stats=True)\n",
       "    (29): ReLU(inplace=True)\n",
       "    (30): Conv2d(512, 512, kernel_size=(3, 3), stride=(1, 1), padding=(1, 1))\n",
       "    (31): BatchNorm2d(512, eps=1e-05, momentum=0.1, affine=True, track_running_stats=True)\n",
       "    (32): ReLU(inplace=True)\n",
       "    (33): MaxPool2d(kernel_size=2, stride=2, padding=0, dilation=1, ceil_mode=False)\n",
       "    (34): Conv2d(512, 512, kernel_size=(3, 3), stride=(1, 1), padding=(1, 1))\n",
       "    (35): BatchNorm2d(512, eps=1e-05, momentum=0.1, affine=True, track_running_stats=True)\n",
       "    (36): ReLU(inplace=True)\n",
       "    (37): Conv2d(512, 512, kernel_size=(3, 3), stride=(1, 1), padding=(1, 1))\n",
       "    (38): BatchNorm2d(512, eps=1e-05, momentum=0.1, affine=True, track_running_stats=True)\n",
       "    (39): ReLU(inplace=True)\n",
       "    (40): Conv2d(512, 512, kernel_size=(3, 3), stride=(1, 1), padding=(1, 1))\n",
       "    (41): BatchNorm2d(512, eps=1e-05, momentum=0.1, affine=True, track_running_stats=True)\n",
       "    (42): ReLU(inplace=True)\n",
       "    (43): MaxPool2d(kernel_size=2, stride=2, padding=0, dilation=1, ceil_mode=False)\n",
       "    (44): AvgPool2d(kernel_size=1, stride=1, padding=0)\n",
       "  )\n",
       "  (classifier): Sequential(\n",
       "    (0): Linear(in_features=512, out_features=4096, bias=True)\n",
       "    (1): ReLU(inplace=True)\n",
       "    (2): Dropout(p=0.5, inplace=False)\n",
       "    (3): Linear(in_features=4096, out_features=4096, bias=True)\n",
       "    (4): ReLU(inplace=True)\n",
       "    (5): Dropout(p=0.5, inplace=False)\n",
       "    (6): Linear(in_features=4096, out_features=10, bias=True)\n",
       "  )\n",
       ")"
      ]
     },
     "execution_count": 46,
     "metadata": {},
     "output_type": "execute_result"
    }
   ],
   "source": [
    "'''\n",
    "VGG16 模型\n",
    "通过下面代码，我们可以知道 VGG16 看起来非常复杂的。\n",
    "但仔细观察，该模型和上面模型的组件相同。即都是由卷积层、全连接层、激活函数、池化层等组成的。\n",
    "下面代码，无需手敲，直接运行即可。当然，如果你想学的更加深入，建议还是自己推敲一下，下面代码为 VGG16 的网络结构。\n",
    "'''\n",
    "import torch.nn.functional as F\n",
    "import torch.nn as nn\n",
    "\n",
    "# 网络模型的建立\n",
    "\n",
    "\n",
    "class VGG16(nn.Module):\n",
    "    def __init__(self, num_classes=10):\n",
    "        super(VGG16, self).__init__()\n",
    "        self.features = nn.Sequential(\n",
    "            # 1\n",
    "            nn.Conv2d(3, 64, kernel_size=3, padding=1),\n",
    "            nn.BatchNorm2d(64),\n",
    "            nn.ReLU(True),\n",
    "            # 2\n",
    "            nn.Conv2d(64, 64, kernel_size=3, padding=1),\n",
    "            nn.BatchNorm2d(64),\n",
    "            nn.ReLU(True),\n",
    "            nn.MaxPool2d(kernel_size=2, stride=2),\n",
    "            # 3\n",
    "            nn.Conv2d(64, 128, kernel_size=3, padding=1),\n",
    "            nn.BatchNorm2d(128),\n",
    "            nn.ReLU(True),\n",
    "            # 4\n",
    "            nn.Conv2d(128, 128, kernel_size=3, padding=1),\n",
    "            nn.BatchNorm2d(128),\n",
    "            nn.ReLU(True),\n",
    "            nn.MaxPool2d(kernel_size=2, stride=2),\n",
    "            # 5\n",
    "            nn.Conv2d(128, 256, kernel_size=3, padding=1),\n",
    "            nn.BatchNorm2d(256),\n",
    "            nn.ReLU(True),\n",
    "            # 6\n",
    "            nn.Conv2d(256, 256, kernel_size=3, padding=1),\n",
    "            nn.BatchNorm2d(256),\n",
    "            nn.ReLU(True),\n",
    "            # 7\n",
    "            nn.Conv2d(256, 256, kernel_size=3, padding=1),\n",
    "            nn.BatchNorm2d(256),\n",
    "            nn.ReLU(True),\n",
    "            nn.MaxPool2d(kernel_size=2, stride=2),\n",
    "            # 8\n",
    "            nn.Conv2d(256, 512, kernel_size=3, padding=1),\n",
    "            nn.BatchNorm2d(512),\n",
    "            nn.ReLU(True),\n",
    "            # 9\n",
    "            nn.Conv2d(512, 512, kernel_size=3, padding=1),\n",
    "            nn.BatchNorm2d(512),\n",
    "            nn.ReLU(True),\n",
    "            # 10\n",
    "            nn.Conv2d(512, 512, kernel_size=3, padding=1),\n",
    "            nn.BatchNorm2d(512),\n",
    "            nn.ReLU(True),\n",
    "            nn.MaxPool2d(kernel_size=2, stride=2),\n",
    "            # 11\n",
    "            nn.Conv2d(512, 512, kernel_size=3, padding=1),\n",
    "            nn.BatchNorm2d(512),\n",
    "            nn.ReLU(True),\n",
    "            # 12\n",
    "            nn.Conv2d(512, 512, kernel_size=3, padding=1),\n",
    "            nn.BatchNorm2d(512),\n",
    "            nn.ReLU(True),\n",
    "            # 13\n",
    "            nn.Conv2d(512, 512, kernel_size=3, padding=1),\n",
    "            nn.BatchNorm2d(512),\n",
    "            nn.ReLU(True),\n",
    "            nn.MaxPool2d(kernel_size=2, stride=2),\n",
    "            nn.AvgPool2d(kernel_size=1, stride=1),\n",
    "        )\n",
    "        self.classifier = nn.Sequential(\n",
    "            # 14\n",
    "            nn.Linear(512, 4096),\n",
    "            nn.ReLU(True),\n",
    "            nn.Dropout(),\n",
    "            # 15\n",
    "            nn.Linear(4096, 4096),\n",
    "            nn.ReLU(True),\n",
    "            nn.Dropout(),\n",
    "            # 16\n",
    "            nn.Linear(4096, num_classes),\n",
    "        )\n",
    "        #self.classifier = nn.Linear(512, 10)\n",
    "\n",
    "    def forward(self, x):\n",
    "        out = self.features(x)\n",
    "        out = out.view(out.size(0), -1)\n",
    "        out = self.classifier(out)\n",
    "        return out\n",
    "\n",
    "\n",
    "# 定义当前设备是否支持 GPU\n",
    "device = torch.device('cuda' if torch.cuda.is_available() else 'cpu')\n",
    "model = VGG16().to(device)\n",
    "model"
   ]
  },
  {
   "cell_type": "code",
   "execution_count": 47,
   "id": "rough-programming",
   "metadata": {},
   "outputs": [
    {
     "name": "stdout",
     "output_type": "stream",
     "text": [
      "已加载模型\n"
     ]
    }
   ],
   "source": [
    "new_model = VGG16().to(device)\n",
    "# 在CPU 环境下加载 GPU 运行的模型时，我们需要添加参数 `map_location='cpu'`\n",
    "new_model.load_state_dict(torch.load(\"./model/vggcnn.pth\", map_location='cpu'))\n",
    "print(\"已加载模型\")"
   ]
  },
  {
   "cell_type": "code",
   "execution_count": 48,
   "id": "italic-latex",
   "metadata": {},
   "outputs": [
    {
     "name": "stdout",
     "output_type": "stream",
     "text": [
      "已预测完第0批次的数据\n",
      "已预测完第10批次的数据\n",
      "已预测完第20批次的数据\n",
      "已预测完第30批次的数据\n",
      "已预测完第40批次的数据\n",
      "已预测完第50批次的数据\n",
      "已预测完第60批次的数据\n",
      "已预测完第70批次的数据\n",
      "VGG模型的识别准确率为: 76.92 %\n"
     ]
    }
   ],
   "source": [
    "# 重新下设置 batch_size，使模型一次能够预测更多的数据\n",
    "test_loader = torch.utils.data.DataLoader(test_dataset, batch_size=125,\n",
    "                                          shuffle=False)\n",
    "with torch.no_grad():\n",
    "    # 统计预测正确的图像数量和进行了预测的图像数量\n",
    "    n_correct = 0\n",
    "    n_samples = 0\n",
    "    i = 0\n",
    "    for images, labels in test_loader:\n",
    "        images = images.to(device)\n",
    "        labels = labels.to(device)\n",
    "        outputs = new_model(images)\n",
    "        # 利用 max 函数返回 10 个类别中概率最大的下标，即预测的类别\n",
    "        _, predicted = torch.max(outputs, 1)\n",
    "        n_samples += labels.size(0)\n",
    "        # 通过判断预测值和真实标签是否相同，来统计预测正确的样本数\n",
    "        n_correct += (predicted == labels).sum().item()\n",
    "        if i % 10 == 0:\n",
    "            print(\"已预测完第{}批次的数据\".format(i))\n",
    "        i = i+1\n",
    "\n",
    "    # 输出总的模型准确率\n",
    "    acc = 100.0 * n_correct / n_samples\n",
    "    print(f'VGG模型的识别准确率为: {acc} %')"
   ]
  }
 ],
 "metadata": {
  "kernelspec": {
   "display_name": "Python [conda env:root]",
   "language": "python",
   "name": "conda-root-py"
  },
  "language_info": {
   "codemirror_mode": {
    "name": "ipython",
    "version": 3
   },
   "file_extension": ".py",
   "mimetype": "text/x-python",
   "name": "python",
   "nbconvert_exporter": "python",
   "pygments_lexer": "ipython3",
   "version": "3.7.3"
  }
 },
 "nbformat": 4,
 "nbformat_minor": 5
}
